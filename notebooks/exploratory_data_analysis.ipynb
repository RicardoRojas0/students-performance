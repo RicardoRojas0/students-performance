{
 "cells": [
  {
   "cell_type": "markdown",
   "id": "45545e77",
   "metadata": {},
   "source": [
    "# Students Performance\n",
    "## Exploratory Data Analysis"
   ]
  },
  {
   "cell_type": "code",
   "execution_count": 24,
   "id": "b89cf377",
   "metadata": {},
   "outputs": [],
   "source": [
    "import pandas as pd\n",
    "import numpy as np\n",
    "import matplotlib.pyplot as plt\n",
    "import warnings\n",
    "from ydata_profiling import ProfileReport\n",
    "import lux"
   ]
  },
  {
   "cell_type": "code",
   "execution_count": 25,
   "id": "bbf3d10f",
   "metadata": {},
   "outputs": [],
   "source": [
    "# Settings and importing dataset\n",
    "lux.logger = True\n",
    "warnings.filterwarnings(action=\"ignore\")\n",
    "df = pd.read_csv(\"../data/students_performance.csv\")"
   ]
  },
  {
   "cell_type": "code",
   "execution_count": 26,
   "id": "b48f6baf",
   "metadata": {},
   "outputs": [
    {
     "name": "stdout",
     "output_type": "stream",
     "text": [
      "<class 'lux.core.frame.LuxDataFrame'>\n",
      "RangeIndex: 1000 entries, 0 to 999\n",
      "Data columns (total 8 columns):\n",
      " #   Column                       Non-Null Count  Dtype \n",
      "---  ------                       --------------  ----- \n",
      " 0   gender                       1000 non-null   object\n",
      " 1   race_ethnicity               1000 non-null   object\n",
      " 2   parental_level_of_education  1000 non-null   object\n",
      " 3   lunch                        1000 non-null   object\n",
      " 4   test_preparation_course      1000 non-null   object\n",
      " 5   math_score                   1000 non-null   int64 \n",
      " 6   reading_score                1000 non-null   int64 \n",
      " 7   writing_score                1000 non-null   int64 \n",
      "dtypes: int64(3), object(5)\n",
      "memory usage: 62.6+ KB\n"
     ]
    }
   ],
   "source": [
    "# Checking data types, null values, columns and rows.\n",
    "df.info()"
   ]
  },
  {
   "cell_type": "code",
   "execution_count": 27,
   "id": "aa42eacc",
   "metadata": {},
   "outputs": [
    {
     "data": {
      "application/vnd.jupyter.widget-view+json": {
       "model_id": "b93864d097ed414e9db18390a2ab5fac",
       "version_major": 2,
       "version_minor": 0
      },
      "text/plain": [
       "Button(description='Toggle Pandas/Lux', layout=Layout(top='5px', width='140px'), style=ButtonStyle())"
      ]
     },
     "metadata": {},
     "output_type": "display_data"
    },
    {
     "data": {
      "application/vnd.jupyter.widget-view+json": {
       "model_id": "a8a1902b2d714261bbb83537e2609f35",
       "version_major": 2,
       "version_minor": 0
      },
      "text/plain": [
       "Output()"
      ]
     },
     "metadata": {},
     "output_type": "display_data"
    }
   ],
   "source": [
    "# Statistical information for numerical columns\n",
    "df.describe()"
   ]
  },
  {
   "cell_type": "code",
   "execution_count": 28,
   "id": "59d39189",
   "metadata": {},
   "outputs": [
    {
     "data": {
      "text/plain": [
       "np.int64(0)"
      ]
     },
     "execution_count": 28,
     "metadata": {},
     "output_type": "execute_result"
    }
   ],
   "source": [
    "# Check for duplicates\n",
    "df.duplicated().sum()"
   ]
  },
  {
   "cell_type": "code",
   "execution_count": 29,
   "id": "09e22d6e",
   "metadata": {},
   "outputs": [
    {
     "name": "stdout",
     "output_type": "stream",
     "text": [
      "There are 3 numerical features: ['math_score', 'reading_score', 'writing_score']\n",
      "There are 5 categorical features: ['gender', 'race_ethnicity', 'parental_level_of_education', 'lunch', 'test_preparation_course']\n"
     ]
    }
   ],
   "source": [
    "numerical_features = df.select_dtypes(include=\"int64\").columns.to_list()\n",
    "categorical_features = df.select_dtypes(include=\"object\").columns.to_list()\n",
    "\n",
    "print(f\"There are {len(numerical_features)} numerical features: {numerical_features}\")\n",
    "print(f\"There are {len(categorical_features)} categorical features: {categorical_features}\")"
   ]
  },
  {
   "cell_type": "code",
   "execution_count": 30,
   "id": "b20c21ac",
   "metadata": {},
   "outputs": [
    {
     "name": "stdout",
     "output_type": "stream",
     "text": [
      "Categories in 'gender' feature (2) : ['female' 'male']\n",
      "Categories in 'race_ethnicity' feature (5) : ['group B' 'group C' 'group A' 'group D' 'group E']\n",
      "Categories in 'parental_level_of_education' feature (6) : [\"bachelor's degree\" 'some college' \"master's degree\" \"associate's degree\"\n",
      " 'high school' 'some high school']\n",
      "Categories in 'lunch' feature (2) : ['standard' 'free/reduced']\n",
      "Categories in 'test_preparation_course' feature (2) : ['none' 'completed']\n"
     ]
    }
   ],
   "source": [
    "# Visualizing categorical values\n",
    "for col in df.select_dtypes(include=\"object\").columns:\n",
    "    print(f\"Categories in '{col}' feature ({df[col].nunique()}) : {df[col].unique()}\")"
   ]
  },
  {
   "cell_type": "markdown",
   "id": "f93ea7ef",
   "metadata": {},
   "source": [
    "## Feature Engineering\n",
    "### Adding columns for \"Total Score\" and \"Average Score\""
   ]
  },
  {
   "cell_type": "code",
   "execution_count": 31,
   "id": "a2a988e4",
   "metadata": {},
   "outputs": [
    {
     "data": {
      "application/vnd.jupyter.widget-view+json": {
       "model_id": "1a0383ca24e8482e8d236a10baa6a235",
       "version_major": 2,
       "version_minor": 0
      },
      "text/plain": [
       "Button(description='Toggle Pandas/Lux', layout=Layout(top='5px', width='140px'), style=ButtonStyle())"
      ]
     },
     "metadata": {},
     "output_type": "display_data"
    },
    {
     "data": {
      "application/vnd.jupyter.widget-view+json": {
       "model_id": "91b62cdfe6f84bd89ac3fce9d87932b5",
       "version_major": 2,
       "version_minor": 0
      },
      "text/plain": [
       "Output()"
      ]
     },
     "metadata": {},
     "output_type": "display_data"
    }
   ],
   "source": [
    "df[\"total_score\"] = df[\"math_score\"] + df[\"writing_score\"] + df[\"reading_score\"]\n",
    "df[\"avg_score\"] = df[\"total_score\"] / len(numerical_features)\n",
    "df.head()"
   ]
  },
  {
   "cell_type": "markdown",
   "id": "2acfdecb",
   "metadata": {},
   "source": [
    "## Profile Report"
   ]
  },
  {
   "cell_type": "code",
   "execution_count": 32,
   "id": "6f1f84fd",
   "metadata": {},
   "outputs": [
    {
     "data": {
      "application/vnd.jupyter.widget-view+json": {
       "model_id": "f3cdaf2e80354872878e753d54150f07",
       "version_major": 2,
       "version_minor": 0
      },
      "text/plain": [
       "Summarize dataset:   0%|          | 0/5 [00:00<?, ?it/s]"
      ]
     },
     "metadata": {},
     "output_type": "display_data"
    },
    {
     "data": {
      "application/vnd.jupyter.widget-view+json": {
       "model_id": "64992ce2aa4a45d8803f8773d32561df",
       "version_major": 2,
       "version_minor": 0
      },
      "text/plain": [
       "Generate report structure:   0%|          | 0/1 [00:00<?, ?it/s]"
      ]
     },
     "metadata": {},
     "output_type": "display_data"
    },
    {
     "data": {
      "application/vnd.jupyter.widget-view+json": {
       "model_id": "fe1a1b88d88d4cbb92f78f6c4307f78c",
       "version_major": 2,
       "version_minor": 0
      },
      "text/plain": [
       "Render HTML:   0%|          | 0/1 [00:00<?, ?it/s]"
      ]
     },
     "metadata": {},
     "output_type": "display_data"
    },
    {
     "data": {
      "application/vnd.jupyter.widget-view+json": {
       "model_id": "9b0cc24315024e6eaba672c6197d8eb1",
       "version_major": 2,
       "version_minor": 0
      },
      "text/plain": [
       "Export report to file:   0%|          | 0/1 [00:00<?, ?it/s]"
      ]
     },
     "metadata": {},
     "output_type": "display_data"
    }
   ],
   "source": [
    "profile_report = ProfileReport(df=df, title=\"Students Performance Profiling Report\")\n",
    "profile_report.to_file(\"../reports/profiling_report.html\")"
   ]
  },
  {
   "cell_type": "code",
   "execution_count": 33,
   "id": "4f020f20",
   "metadata": {},
   "outputs": [
    {
     "data": {
      "application/vnd.jupyter.widget-view+json": {
       "model_id": "d81f6fcb46f340f0a4fdd7752b82c385",
       "version_major": 2,
       "version_minor": 0
      },
      "text/plain": [
       "Button(description='Toggle Pandas/Lux', layout=Layout(top='5px', width='140px'), style=ButtonStyle())"
      ]
     },
     "metadata": {},
     "output_type": "display_data"
    },
    {
     "data": {
      "application/vnd.jupyter.widget-view+json": {
       "model_id": "a7217d8199144fa087db1756ac686502",
       "version_major": 2,
       "version_minor": 0
      },
      "text/plain": [
       "Output()"
      ]
     },
     "metadata": {},
     "output_type": "display_data"
    }
   ],
   "source": [
    "df"
   ]
  },
  {
   "cell_type": "code",
   "execution_count": null,
   "id": "620529d7",
   "metadata": {},
   "outputs": [],
   "source": []
  }
 ],
 "metadata": {
  "kernelspec": {
   "display_name": "students-performance (3.12.5)",
   "language": "python",
   "name": "python3"
  },
  "language_info": {
   "codemirror_mode": {
    "name": "ipython",
    "version": 3
   },
   "file_extension": ".py",
   "mimetype": "text/x-python",
   "name": "python",
   "nbconvert_exporter": "python",
   "pygments_lexer": "ipython3",
   "version": "3.12.5"
  }
 },
 "nbformat": 4,
 "nbformat_minor": 5
}
